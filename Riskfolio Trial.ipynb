{
 "cells": [
  {
   "cell_type": "code",
   "execution_count": 1,
   "metadata": {
    "id": "dWdefhK7DDbJ"
   },
   "outputs": [],
   "source": [
    "import riskfolio as rp\n",
    "import yfinance as yf\n",
    "import pandas as pd\n",
    "import numpy as np\n",
    "import matplotlib.pyplot as plt\n",
    "import seaborn as sns\n",
    "%matplotlib inline"
   ]
  },
  {
   "cell_type": "code",
   "execution_count": 2,
   "metadata": {
    "colab": {
     "base_uri": "https://localhost:8080/"
    },
    "id": "5Eo4NoAmDL--",
    "outputId": "552886af-5f34-479f-cb4d-a1666b79a898"
   },
   "outputs": [
    {
     "name": "stdout",
     "output_type": "stream",
     "text": [
      "[*********************100%***********************]  5 of 5 completed\n",
      "[*********************100%***********************]  5 of 5 completed\n"
     ]
    }
   ],
   "source": [
    "assets = [\"ALI=F\", \"HG=F\", \"ZN=F\", \"GC=F\", \"SI=F\"]\n",
    "train = yf.download(assets, start=\"2019-08-01\", end=\"2022-08-01\", interval=\"1wk\")\n",
    "test = yf.download(assets, start=\"2022-08-01\", end=\"2023-02-25\", interval=\"1wk\")\n",
    "train = train[\"Adj Close\"]\n",
    "test = test[\"Adj Close\"]"
   ]
  },
  {
   "cell_type": "code",
   "execution_count": 3,
   "metadata": {
    "id": "VhJcXYyXHBbC"
   },
   "outputs": [
    {
     "data": {
      "text/html": [
       "<div>\n",
       "<style scoped>\n",
       "    .dataframe tbody tr th:only-of-type {\n",
       "        vertical-align: middle;\n",
       "    }\n",
       "\n",
       "    .dataframe tbody tr th {\n",
       "        vertical-align: top;\n",
       "    }\n",
       "\n",
       "    .dataframe thead th {\n",
       "        text-align: right;\n",
       "    }\n",
       "</style>\n",
       "<table border=\"1\" class=\"dataframe\">\n",
       "  <thead>\n",
       "    <tr style=\"text-align: right;\">\n",
       "      <th></th>\n",
       "      <th>mALI=F</th>\n",
       "      <th>mGC=F</th>\n",
       "      <th>mHG=F</th>\n",
       "      <th>mSI=F</th>\n",
       "      <th>mZN=F</th>\n",
       "    </tr>\n",
       "    <tr>\n",
       "      <th>Date</th>\n",
       "      <th></th>\n",
       "      <th></th>\n",
       "      <th></th>\n",
       "      <th></th>\n",
       "      <th></th>\n",
       "    </tr>\n",
       "  </thead>\n",
       "  <tbody>\n",
       "    <tr>\n",
       "      <th>2019-08-05</th>\n",
       "      <td>-0.005184</td>\n",
       "      <td>-0.035279</td>\n",
       "      <td>-0.007407</td>\n",
       "      <td>-0.041610</td>\n",
       "      <td>-0.006427</td>\n",
       "    </tr>\n",
       "    <tr>\n",
       "      <th>2019-08-12</th>\n",
       "      <td>-0.008279</td>\n",
       "      <td>-0.010624</td>\n",
       "      <td>-0.002322</td>\n",
       "      <td>-0.011777</td>\n",
       "      <td>-0.009518</td>\n",
       "    </tr>\n",
       "    <tr>\n",
       "      <th>2019-08-19</th>\n",
       "      <td>0.018037</td>\n",
       "      <td>-0.009322</td>\n",
       "      <td>0.024710</td>\n",
       "      <td>-0.017489</td>\n",
       "      <td>-0.000239</td>\n",
       "    </tr>\n",
       "    <tr>\n",
       "      <th>2019-08-26</th>\n",
       "      <td>0.036052</td>\n",
       "      <td>0.004913</td>\n",
       "      <td>-0.002771</td>\n",
       "      <td>-0.045415</td>\n",
       "      <td>-0.000716</td>\n",
       "    </tr>\n",
       "    <tr>\n",
       "      <th>2019-09-02</th>\n",
       "      <td>-0.017491</td>\n",
       "      <td>0.008492</td>\n",
       "      <td>-0.032570</td>\n",
       "      <td>0.011933</td>\n",
       "      <td>0.002385</td>\n",
       "    </tr>\n",
       "  </tbody>\n",
       "</table>\n",
       "</div>"
      ],
      "text/plain": [
       "              mALI=F     mGC=F     mHG=F     mSI=F     mZN=F\n",
       "Date                                                        \n",
       "2019-08-05 -0.005184 -0.035279 -0.007407 -0.041610 -0.006427\n",
       "2019-08-12 -0.008279 -0.010624 -0.002322 -0.011777 -0.009518\n",
       "2019-08-19  0.018037 -0.009322  0.024710 -0.017489 -0.000239\n",
       "2019-08-26  0.036052  0.004913 -0.002771 -0.045415 -0.000716\n",
       "2019-09-02 -0.017491  0.008492 -0.032570  0.011933  0.002385"
      ]
     },
     "execution_count": 3,
     "metadata": {},
     "output_type": "execute_result"
    }
   ],
   "source": [
    "train_returns = train.pct_change().dropna()\n",
    "neg_returns = train_returns.apply(lambda x: x*-1)\n",
    "neg_returns.columns = ['mALI=F', 'mGC=F', 'mHG=F', 'mSI=F', 'mZN=F']\n",
    "neg_returns.head()"
   ]
  },
  {
   "cell_type": "code",
   "execution_count": 4,
   "metadata": {
    "id": "a11bpZqERZF1"
   },
   "outputs": [
    {
     "data": {
      "text/html": [
       "<div>\n",
       "<style scoped>\n",
       "    .dataframe tbody tr th:only-of-type {\n",
       "        vertical-align: middle;\n",
       "    }\n",
       "\n",
       "    .dataframe tbody tr th {\n",
       "        vertical-align: top;\n",
       "    }\n",
       "\n",
       "    .dataframe thead th {\n",
       "        text-align: right;\n",
       "    }\n",
       "</style>\n",
       "<table border=\"1\" class=\"dataframe\">\n",
       "  <thead>\n",
       "    <tr style=\"text-align: right;\">\n",
       "      <th></th>\n",
       "      <th>mALI=F</th>\n",
       "      <th>GC=F</th>\n",
       "      <th>HG=F</th>\n",
       "      <th>mSI=F</th>\n",
       "      <th>ZN=F</th>\n",
       "    </tr>\n",
       "    <tr>\n",
       "      <th>Date</th>\n",
       "      <th></th>\n",
       "      <th></th>\n",
       "      <th></th>\n",
       "      <th></th>\n",
       "      <th></th>\n",
       "    </tr>\n",
       "  </thead>\n",
       "  <tbody>\n",
       "    <tr>\n",
       "      <th>2019-08-05</th>\n",
       "      <td>-0.005184</td>\n",
       "      <td>0.035279</td>\n",
       "      <td>0.007407</td>\n",
       "      <td>-0.041610</td>\n",
       "      <td>0.006427</td>\n",
       "    </tr>\n",
       "    <tr>\n",
       "      <th>2019-08-12</th>\n",
       "      <td>-0.008279</td>\n",
       "      <td>0.010624</td>\n",
       "      <td>0.002322</td>\n",
       "      <td>-0.011777</td>\n",
       "      <td>0.009518</td>\n",
       "    </tr>\n",
       "    <tr>\n",
       "      <th>2019-08-19</th>\n",
       "      <td>0.018037</td>\n",
       "      <td>0.009322</td>\n",
       "      <td>-0.024710</td>\n",
       "      <td>-0.017489</td>\n",
       "      <td>0.000239</td>\n",
       "    </tr>\n",
       "    <tr>\n",
       "      <th>2019-08-26</th>\n",
       "      <td>0.036052</td>\n",
       "      <td>-0.004913</td>\n",
       "      <td>0.002771</td>\n",
       "      <td>-0.045415</td>\n",
       "      <td>0.000716</td>\n",
       "    </tr>\n",
       "    <tr>\n",
       "      <th>2019-09-02</th>\n",
       "      <td>-0.017491</td>\n",
       "      <td>-0.008492</td>\n",
       "      <td>0.032570</td>\n",
       "      <td>0.011933</td>\n",
       "      <td>-0.002385</td>\n",
       "    </tr>\n",
       "  </tbody>\n",
       "</table>\n",
       "</div>"
      ],
      "text/plain": [
       "              mALI=F      GC=F      HG=F     mSI=F      ZN=F\n",
       "Date                                                        \n",
       "2019-08-05 -0.005184  0.035279  0.007407 -0.041610  0.006427\n",
       "2019-08-12 -0.008279  0.010624  0.002322 -0.011777  0.009518\n",
       "2019-08-19  0.018037  0.009322 -0.024710 -0.017489  0.000239\n",
       "2019-08-26  0.036052 -0.004913  0.002771 -0.045415  0.000716\n",
       "2019-09-02 -0.017491 -0.008492  0.032570  0.011933 -0.002385"
      ]
     },
     "execution_count": 4,
     "metadata": {},
     "output_type": "execute_result"
    }
   ],
   "source": [
    "train_df = pd.concat([train_returns, neg_returns], axis=1)\n",
    "train_df = train_df[['mALI=F','GC=F','HG=F','mSI=F','ZN=F']]\n",
    "train_df.head()"
   ]
  },
  {
   "cell_type": "markdown",
   "metadata": {},
   "source": [
    "## Model Implementation (CVaR)"
   ]
  },
  {
   "cell_type": "code",
   "execution_count": 5,
   "metadata": {
    "id": "4iBrWH1qN0KM"
   },
   "outputs": [],
   "source": [
    "method_mu = \"hist\"\n",
    "method_cov = \"hist\"\n",
    "model = \"Classic\"\n",
    "rm=\"CVaR\"\n",
    "obj = \"Sharpe\"\n",
    "rf = 0\n",
    "l = 0\n",
    "hist=True"
   ]
  },
  {
   "cell_type": "code",
   "execution_count": 6,
   "metadata": {
    "id": "ni8q9_3QOYaZ"
   },
   "outputs": [],
   "source": [
    "port = rp.Portfolio(returns=train_df)\n",
    "port.assets_stats(method_mu=method_mu, method_cov=method_cov)\n",
    "w = port.optimization(model=model, rm=rm, obj=obj, rf=rf, l=l, hist=hist)\n",
    "weights = w.T"
   ]
  },
  {
   "cell_type": "code",
   "execution_count": 7,
   "metadata": {
    "colab": {
     "base_uri": "https://localhost:8080/",
     "height": 441
    },
    "id": "1a9o2BuiOxhx",
    "outputId": "d98d242f-2a02-4118-f6ff-0991670bac76"
   },
   "outputs": [
    {
     "data": {
      "image/png": "[encoded data removed]",
      "text/plain": [
       "<Figure size 576x432 with 1 Axes>"
      ]
     },
     "metadata": {},
     "output_type": "display_data"
    }
   ],
   "source": [
    "ax = rp.plot_pie(w=w, title=\"Optimum Portfolio\", others=0.01, cmap=\"tab20\")\n",
    "plt.show()"
   ]
  },
  {
   "cell_type": "code",
   "execution_count": 8,
   "metadata": {
    "colab": {
     "base_uri": "https://localhost:8080/",
     "height": 206
    },
    "id": "vkW5soeAQe0_",
    "outputId": "efc5b7f5-cd0b-47d2-f672-d29526dc71b5"
   },
   "outputs": [
    {
     "data": {
      "text/plain": [
       "<AxesSubplot:title={'center':'Portfolio Weights'}>"
      ]
     },
     "execution_count": 8,
     "metadata": {},
     "output_type": "execute_result"
    },
    {
     "data": {
      "image/png": "[encoded data removed]",
      "text/plain": [
       "<Figure size 432x288 with 1 Axes>"
      ]
     },
     "metadata": {
      "needs_background": "light"
     },
     "output_type": "display_data"
    }
   ],
   "source": [
    "w.plot(kind=\"bar\",title=\"Portfolio Weights\")"
   ]
  },
  {
   "cell_type": "code",
   "execution_count": 9,
   "metadata": {
    "colab": {
     "base_uri": "https://localhost:8080/",
     "height": 237
    },
    "id": "Xz8UvwBFTjra",
    "outputId": "29637a76-dfc5-4843-f506-4024666c515f"
   },
   "outputs": [
    {
     "data": {
      "text/html": [
       "<div>\n",
       "<style scoped>\n",
       "    .dataframe tbody tr th:only-of-type {\n",
       "        vertical-align: middle;\n",
       "    }\n",
       "\n",
       "    .dataframe tbody tr th {\n",
       "        vertical-align: top;\n",
       "    }\n",
       "\n",
       "    .dataframe thead th {\n",
       "        text-align: right;\n",
       "    }\n",
       "</style>\n",
       "<table border=\"1\" class=\"dataframe\">\n",
       "  <thead>\n",
       "    <tr style=\"text-align: right;\">\n",
       "      <th></th>\n",
       "      <th>ALI=F</th>\n",
       "      <th>GC=F</th>\n",
       "      <th>HG=F</th>\n",
       "      <th>SI=F</th>\n",
       "      <th>ZN=F</th>\n",
       "      <th>mALI=F</th>\n",
       "      <th>mGC=F</th>\n",
       "      <th>mHG=F</th>\n",
       "      <th>mSI=F</th>\n",
       "      <th>mZN=F</th>\n",
       "    </tr>\n",
       "    <tr>\n",
       "      <th>Date</th>\n",
       "      <th></th>\n",
       "      <th></th>\n",
       "      <th></th>\n",
       "      <th></th>\n",
       "      <th></th>\n",
       "      <th></th>\n",
       "      <th></th>\n",
       "      <th></th>\n",
       "      <th></th>\n",
       "      <th></th>\n",
       "    </tr>\n",
       "  </thead>\n",
       "  <tbody>\n",
       "    <tr>\n",
       "      <th>2022-08-01</th>\n",
       "      <td>2396.75</td>\n",
       "      <td>1772.900024</td>\n",
       "      <td>3.5530</td>\n",
       "      <td>19.819000</td>\n",
       "      <td>119.375000</td>\n",
       "      <td>-2396.75</td>\n",
       "      <td>-1772.900024</td>\n",
       "      <td>-3.5530</td>\n",
       "      <td>-19.819000</td>\n",
       "      <td>-119.375000</td>\n",
       "    </tr>\n",
       "    <tr>\n",
       "      <th>2022-08-08</th>\n",
       "      <td>2421.75</td>\n",
       "      <td>1798.599976</td>\n",
       "      <td>3.6760</td>\n",
       "      <td>20.677000</td>\n",
       "      <td>119.265625</td>\n",
       "      <td>-2421.75</td>\n",
       "      <td>-1798.599976</td>\n",
       "      <td>-3.6760</td>\n",
       "      <td>-20.677000</td>\n",
       "      <td>-119.265625</td>\n",
       "    </tr>\n",
       "    <tr>\n",
       "      <th>2022-08-15</th>\n",
       "      <td>2371.75</td>\n",
       "      <td>1747.599976</td>\n",
       "      <td>3.6835</td>\n",
       "      <td>19.058001</td>\n",
       "      <td>118.109375</td>\n",
       "      <td>-2371.75</td>\n",
       "      <td>-1747.599976</td>\n",
       "      <td>-3.6835</td>\n",
       "      <td>-19.058001</td>\n",
       "      <td>-118.109375</td>\n",
       "    </tr>\n",
       "    <tr>\n",
       "      <th>2022-08-22</th>\n",
       "      <td>2484.00</td>\n",
       "      <td>1736.099976</td>\n",
       "      <td>3.7115</td>\n",
       "      <td>18.740000</td>\n",
       "      <td>117.578125</td>\n",
       "      <td>-2484.00</td>\n",
       "      <td>-1736.099976</td>\n",
       "      <td>-3.7115</td>\n",
       "      <td>-18.740000</td>\n",
       "      <td>-117.578125</td>\n",
       "    </tr>\n",
       "    <tr>\n",
       "      <th>2022-08-29</th>\n",
       "      <td>2276.50</td>\n",
       "      <td>1709.800049</td>\n",
       "      <td>3.4215</td>\n",
       "      <td>17.775999</td>\n",
       "      <td>116.656250</td>\n",
       "      <td>-2276.50</td>\n",
       "      <td>-1709.800049</td>\n",
       "      <td>-3.4215</td>\n",
       "      <td>-17.775999</td>\n",
       "      <td>-116.656250</td>\n",
       "    </tr>\n",
       "  </tbody>\n",
       "</table>\n",
       "</div>"
      ],
      "text/plain": [
       "              ALI=F         GC=F    HG=F       SI=F        ZN=F   mALI=F  \\\n",
       "Date                                                                       \n",
       "2022-08-01  2396.75  1772.900024  3.5530  19.819000  119.375000 -2396.75   \n",
       "2022-08-08  2421.75  1798.599976  3.6760  20.677000  119.265625 -2421.75   \n",
       "2022-08-15  2371.75  1747.599976  3.6835  19.058001  118.109375 -2371.75   \n",
       "2022-08-22  2484.00  1736.099976  3.7115  18.740000  117.578125 -2484.00   \n",
       "2022-08-29  2276.50  1709.800049  3.4215  17.775999  116.656250 -2276.50   \n",
       "\n",
       "                  mGC=F   mHG=F      mSI=F       mZN=F  \n",
       "Date                                                    \n",
       "2022-08-01 -1772.900024 -3.5530 -19.819000 -119.375000  \n",
       "2022-08-08 -1798.599976 -3.6760 -20.677000 -119.265625  \n",
       "2022-08-15 -1747.599976 -3.6835 -19.058001 -118.109375  \n",
       "2022-08-22 -1736.099976 -3.7115 -18.740000 -117.578125  \n",
       "2022-08-29 -1709.800049 -3.4215 -17.775999 -116.656250  "
      ]
     },
     "execution_count": 9,
     "metadata": {},
     "output_type": "execute_result"
    }
   ],
   "source": [
    "test_neg = test.apply(lambda x: x*-1)\n",
    "test_neg.columns = ['mALI=F','mGC=F','mHG=F','mSI=F','mZN=F']\n",
    "test_df = pd.concat([test, test_neg], axis=1)\n",
    "test_df.head()"
   ]
  },
  {
   "cell_type": "code",
   "execution_count": 10,
   "metadata": {
    "id": "YdSiEtPWVQN9"
   },
   "outputs": [
    {
     "data": {
      "text/html": [
       "<div>\n",
       "<style scoped>\n",
       "    .dataframe tbody tr th:only-of-type {\n",
       "        vertical-align: middle;\n",
       "    }\n",
       "\n",
       "    .dataframe tbody tr th {\n",
       "        vertical-align: top;\n",
       "    }\n",
       "\n",
       "    .dataframe thead th {\n",
       "        text-align: right;\n",
       "    }\n",
       "</style>\n",
       "<table border=\"1\" class=\"dataframe\">\n",
       "  <thead>\n",
       "    <tr style=\"text-align: right;\">\n",
       "      <th></th>\n",
       "      <th>GC=F</th>\n",
       "      <th>HG=F</th>\n",
       "      <th>SI=F</th>\n",
       "    </tr>\n",
       "    <tr>\n",
       "      <th>Date</th>\n",
       "      <th></th>\n",
       "      <th></th>\n",
       "      <th></th>\n",
       "    </tr>\n",
       "  </thead>\n",
       "  <tbody>\n",
       "    <tr>\n",
       "      <th>2022-08-01</th>\n",
       "      <td>1772.900024</td>\n",
       "      <td>3.5530</td>\n",
       "      <td>19.819000</td>\n",
       "    </tr>\n",
       "    <tr>\n",
       "      <th>2022-08-08</th>\n",
       "      <td>1798.599976</td>\n",
       "      <td>3.6760</td>\n",
       "      <td>20.677000</td>\n",
       "    </tr>\n",
       "    <tr>\n",
       "      <th>2022-08-15</th>\n",
       "      <td>1747.599976</td>\n",
       "      <td>3.6835</td>\n",
       "      <td>19.058001</td>\n",
       "    </tr>\n",
       "    <tr>\n",
       "      <th>2022-08-22</th>\n",
       "      <td>1736.099976</td>\n",
       "      <td>3.7115</td>\n",
       "      <td>18.740000</td>\n",
       "    </tr>\n",
       "    <tr>\n",
       "      <th>2022-08-29</th>\n",
       "      <td>1709.800049</td>\n",
       "      <td>3.4215</td>\n",
       "      <td>17.775999</td>\n",
       "    </tr>\n",
       "  </tbody>\n",
       "</table>\n",
       "</div>"
      ],
      "text/plain": [
       "                   GC=F    HG=F       SI=F\n",
       "Date                                      \n",
       "2022-08-01  1772.900024  3.5530  19.819000\n",
       "2022-08-08  1798.599976  3.6760  20.677000\n",
       "2022-08-15  1747.599976  3.6835  19.058001\n",
       "2022-08-22  1736.099976  3.7115  18.740000\n",
       "2022-08-29  1709.800049  3.4215  17.775999"
      ]
     },
     "execution_count": 10,
     "metadata": {},
     "output_type": "execute_result"
    }
   ],
   "source": [
    "test_portfolio = test_df[['GC=F','HG=F','SI=F']]\n",
    "test_portfolio.head()"
   ]
  },
  {
   "cell_type": "code",
   "execution_count": 11,
   "metadata": {},
   "outputs": [],
   "source": [
    "def returns(test_df):\n",
    "    portfolio_returns = []\n",
    "    cols = list(test_df.columns)\n",
    "    cols[2] = \"mSI=F\"\n",
    "    port_weights = np.array(weights[cols])[0]\n",
    "    for i in range(len(test_portfolio)):\n",
    "        weekly_returns = np.array(((test_portfolio.iloc[i,:])-(test_portfolio.iloc[0,:])) / (test_portfolio.iloc[0,:]))\n",
    "        weekly_returns[2] *= -1\n",
    "        cum_returns = np.dot(weekly_returns,port_weights.T)\n",
    "        portfolio_returns.append(cum_returns)\n",
    "    return portfolio_returns"
   ]
  },
  {
   "cell_type": "code",
   "execution_count": 12,
   "metadata": {},
   "outputs": [],
   "source": [
    "port_returns = returns(test_portfolio)"
   ]
  },
  {
   "cell_type": "code",
   "execution_count": 13,
   "metadata": {},
   "outputs": [
    {
     "data": {
      "text/plain": [
       "Text(0, 0.5, 'Percentage Return Rate')"
      ]
     },
     "execution_count": 13,
     "metadata": {},
     "output_type": "execute_result"
    },
    {
     "data": {
      "image/png": "[encoded data removed]",
      "text/plain": [
       "<Figure size 864x576 with 1 Axes>"
      ]
     },
     "metadata": {
      "needs_background": "light"
     },
     "output_type": "display_data"
    }
   ],
   "source": [
    "plt.figure(figsize=(12,8))\n",
    "sns.lineplot(x=list(test_portfolio.index),y=port_returns)\n",
    "plt.title('Portfolio Returns')\n",
    "plt.xlabel('Date')\n",
    "plt.ylabel('Percentage Return Rate')"
   ]
  }
 ],
 "metadata": {
  "colab": {
   "provenance": []
  },
  "kernelspec": {
   "display_name": "Python 3 (ipykernel)",
   "language": "python",
   "name": "python3"
  },
  "language_info": {
   "codemirror_mode": {
    "name": "ipython",
    "version": 3
   },
   "file_extension": ".py",
   "mimetype": "text/x-python",
   "name": "python",
   "nbconvert_exporter": "python",
   "pygments_lexer": "ipython3",
   "version": "3.9.7"
  }
 },
 "nbformat": 4,
 "nbformat_minor": 1
}
